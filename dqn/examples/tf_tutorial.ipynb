{
 "cells": [
  {
   "cell_type": "markdown",
   "metadata": {
    "id": "klGNgWREsvQv"
   },
   "source": [
    "##### Copyright 2018 The TF-Agents Authors."
   ]
  },
  {
   "cell_type": "code",
   "execution_count": 1,
   "metadata": {
    "cellView": "form",
    "execution": {
     "iopub.execute_input": "2021-02-12T22:21:58.440777Z",
     "iopub.status.busy": "2021-02-12T22:21:58.440184Z",
     "iopub.status.idle": "2021-02-12T22:21:58.441982Z",
     "shell.execute_reply": "2021-02-12T22:21:58.442345Z"
    },
    "id": "nQnmcm0oI1Q-"
   },
   "outputs": [],
   "source": [
    "#@title Licensed under the Apache License, Version 2.0 (the \"License\");\n",
    "# you may not use this file except in compliance with the License.\n",
    "# You may obtain a copy of the License at\n",
    "#\n",
    "# https://www.apache.org/licenses/LICENSE-2.0\n",
    "#\n",
    "# Unless required by applicable law or agreed to in writing, software\n",
    "# distributed under the License is distributed on an \"AS IS\" BASIS,\n",
    "# WITHOUT WARRANTIES OR CONDITIONS OF ANY KIND, either express or implied.\n",
    "# See the License for the specific language governing permissions and\n",
    "# limitations under the License."
   ]
  },
  {
   "cell_type": "markdown",
   "metadata": {
    "id": "pmDI-h7cI0tI"
   },
   "source": [
    "# TF-Agent を使用した Deep Q Network のトレーニング\n",
    "\n",
    "<table class=\"tfo-notebook-buttons\" align=\"left\">\n",
    "  <td><a target=\"_blank\" href=\"https://www.tensorflow.org/agents/tutorials/1_dqn_tutorial\"><img src=\"https://www.tensorflow.org/images/tf_logo_32px.png\"> TensorFlow.orgで表示</a></td>\n",
    "  <td><a target=\"_blank\" href=\"https://colab.research.google.com/github/tensorflow/docs-l10n/blob/master/site/ja/agents/tutorials/1_dqn_tutorial.ipynb\">     <img src=\"https://www.tensorflow.org/images/colab_logo_32px.png\">Google Colabで実行</a></td>\n",
    "  <td><a target=\"_blank\" href=\"https://github.com/tensorflow/docs-l10n/blob/master/site/ja/agents/tutorials/1_dqn_tutorial.ipynb\"><img src=\"https://www.tensorflow.org/images/GitHub-Mark-32px.png\">GitHub でソースを表示{</a></td>\n",
    "  <td><a href=\"https://storage.googleapis.com/tensorflow_docs/docs-l10n/site/ja/agents/tutorials/1_dqn_tutorial.ipynb\"><img src=\"https://www.tensorflow.org/images/download_logo_32px.png\">ノートブックをダウンロード/a0}</a></td>\n",
    "</table>"
   ]
  },
  {
   "cell_type": "markdown",
   "metadata": {
    "id": "lsaQlK8fFQqH"
   },
   "source": [
    "## はじめに\n"
   ]
  },
  {
   "cell_type": "markdown",
   "metadata": {
    "id": "cKOCZlhUgXVK"
   },
   "source": [
    "この例は、Cartpole環境でTF-Agentsライブラリを使用して[ DQN（Deep Q Networks）](https://storage.googleapis.com/deepmind-media/dqn/DQNNaturePaper.pdf)エージェントをトレーニングする方法を示しています。\n",
    "\n",
    "![Cartpole environment](https://raw.githubusercontent.com/tensorflow/agents/master/docs/tutorials/images/cartpole.png)\n",
    "\n",
    "ここでは、トレーニング、評価、データ収集のための強化学習（RL）パイプラインのすべてのコンポーネントについて説明します。\n",
    "\n",
    "このコードをライブで実行するには、上の [Google Colabで実行] リンクをクリックしてください。\n"
   ]
  },
  {
   "cell_type": "markdown",
   "metadata": {
    "id": "1u9QVVsShC9X"
   },
   "source": [
    "## セットアップ"
   ]
  },
  {
   "cell_type": "markdown",
   "metadata": {
    "id": "kNrNXKI7bINP"
   },
   "source": [
    "以下の依存関係をインストールしていない場合は、実行します。"
   ]
  },
  {
   "cell_type": "code",
   "execution_count": 1,
   "metadata": {
    "execution": {
     "iopub.execute_input": "2021-02-12T22:21:58.459190Z",
     "iopub.status.busy": "2021-02-12T22:21:58.458456Z",
     "iopub.status.idle": "2021-02-12T22:22:14.622083Z",
     "shell.execute_reply": "2021-02-12T22:22:14.621525Z"
    },
    "id": "KEHR2Ui-lo8O"
   },
   "outputs": [
    {
     "name": "stderr",
     "output_type": "stream",
     "text": [
      "'sudo' is not recognized as an internal or external command,\n",
      "operable program or batch file.\n",
      "ERROR: Invalid requirement: \"'gym==0.10.11'\"\n",
      "ERROR: Invalid requirement: \"'imageio==2.4.0'\"\n",
      "ERROR: Invalid requirement: \"'pyglet==1.3.2'\"\n"
     ]
    }
   ],
   "source": [
    "!sudo apt-get install -y xvfb ffmpeg\n",
    "!pip install -q 'gym==0.10.11'\n",
    "!pip install -q 'imageio==2.4.0'\n",
    "!pip install -q PILLOW\n",
    "!pip install -q 'pyglet==1.3.2'\n",
    "!pip install -q pyvirtualdisplay\n",
    "!pip install -q tf-agents"
   ]
  },
  {
   "cell_type": "code",
   "execution_count": 3,
   "metadata": {
    "execution": {
     "iopub.execute_input": "2021-02-12T22:22:14.629019Z",
     "iopub.status.busy": "2021-02-12T22:22:14.628063Z",
     "iopub.status.idle": "2021-02-12T22:22:21.253624Z",
     "shell.execute_reply": "2021-02-12T22:22:21.252799Z"
    },
    "id": "sMitx5qSgJk1"
   },
   "outputs": [],
   "source": [
    "from __future__ import absolute_import, division, print_function\n",
    "\n",
    "import base64\n",
    "import imageio\n",
    "import IPython\n",
    "import matplotlib\n",
    "import matplotlib.pyplot as plt\n",
    "import numpy as np\n",
    "import PIL.Image\n",
    "import pyvirtualdisplay\n",
    "\n",
    "import tensorflow as tf\n",
    "\n",
    "from tf_agents.agents.dqn import dqn_agent\n",
    "from tf_agents.drivers import dynamic_step_driver\n",
    "from tf_agents.environments import suite_gym\n",
    "from tf_agents.environments import tf_py_environment\n",
    "from tf_agents.eval import metric_utils\n",
    "from tf_agents.metrics import tf_metrics\n",
    "from tf_agents.networks import q_network\n",
    "from tf_agents.policies import random_tf_policy\n",
    "from tf_agents.replay_buffers import tf_uniform_replay_buffer\n",
    "from tf_agents.trajectories import trajectory\n",
    "from tf_agents.utils import common"
   ]
  },
  {
   "cell_type": "code",
   "execution_count": 4,
   "metadata": {
    "execution": {
     "iopub.execute_input": "2021-02-12T22:22:21.265848Z",
     "iopub.status.busy": "2021-02-12T22:22:21.265155Z",
     "iopub.status.idle": "2021-02-12T22:22:21.353942Z",
     "shell.execute_reply": "2021-02-12T22:22:21.354348Z"
    },
    "id": "J6HsdS5GbSjd"
   },
   "outputs": [],
   "source": [
    "tf.compat.v1.enable_v2_behavior()\n",
    "\n",
    "# Set up a virtual display for rendering OpenAI gym environments.\n",
    "display = pyvirtualdisplay.Display(visible=0, size=(1400, 900)).start()"
   ]
  },
  {
   "cell_type": "code",
   "execution_count": 5,
   "metadata": {
    "execution": {
     "iopub.execute_input": "2021-02-12T22:22:21.360730Z",
     "iopub.status.busy": "2021-02-12T22:22:21.360005Z",
     "iopub.status.idle": "2021-02-12T22:22:21.363845Z",
     "shell.execute_reply": "2021-02-12T22:22:21.364227Z"
    },
    "id": "NspmzG4nP3b9"
   },
   "outputs": [
    {
     "data": {
      "text/plain": [
       "'2.4.1'"
      ]
     },
     "execution_count": 1,
     "metadata": {},
     "output_type": "execute_result"
    }
   ],
   "source": [
    "tf.version.VERSION"
   ]
  },
  {
   "cell_type": "markdown",
   "metadata": {
    "id": "LmC0NDhdLIKY"
   },
   "source": [
    "## ハイパーパラメータ"
   ]
  },
  {
   "cell_type": "code",
   "execution_count": 6,
   "metadata": {
    "execution": {
     "iopub.execute_input": "2021-02-12T22:22:21.368921Z",
     "iopub.status.busy": "2021-02-12T22:22:21.368085Z",
     "iopub.status.idle": "2021-02-12T22:22:21.370525Z",
     "shell.execute_reply": "2021-02-12T22:22:21.370033Z"
    },
    "id": "HC1kNrOsLSIZ"
   },
   "outputs": [],
   "source": [
    "num_iterations = 20000 # @param {type:\"integer\"}\n",
    "\n",
    "initial_collect_steps = 1000  # @param {type:\"integer\"} \n",
    "collect_steps_per_iteration = 1  # @param {type:\"integer\"}\n",
    "replay_buffer_max_length = 100000  # @param {type:\"integer\"}\n",
    "\n",
    "batch_size = 64  # @param {type:\"integer\"}\n",
    "learning_rate = 1e-3  # @param {type:\"number\"}\n",
    "log_interval = 200  # @param {type:\"integer\"}\n",
    "\n",
    "num_eval_episodes = 10  # @param {type:\"integer\"}\n",
    "eval_interval = 1000  # @param {type:\"integer\"}"
   ]
  },
  {
   "cell_type": "markdown",
   "metadata": {
    "id": "VMsJC3DEgI0x"
   },
   "source": [
    "## 環境\n",
    "\n",
    "強化学習（RL）では、環境はタスクまたは解決すべき問題を表します。標準環境は、`tf_agents.environments`スイートを使用して TF-Agent で作成できます。TF-Agent には、OpenAI Gym、Atari、DM Control などのソースから環境を読み込むためのスイートがあります。\n",
    "\n",
    "OpenAI Gym スイートから CartPole 環境を読み込みます。 "
   ]
  },
  {
   "cell_type": "code",
   "execution_count": 7,
   "metadata": {
    "execution": {
     "iopub.execute_input": "2021-02-12T22:22:21.375146Z",
     "iopub.status.busy": "2021-02-12T22:22:21.374063Z",
     "iopub.status.idle": "2021-02-12T22:22:21.382998Z",
     "shell.execute_reply": "2021-02-12T22:22:21.383403Z"
    },
    "id": "pYEz-S9gEv2-"
   },
   "outputs": [],
   "source": [
    "env_name = 'CartPole-v0'\n",
    "env = suite_gym.load(env_name)"
   ]
  },
  {
   "cell_type": "markdown",
   "metadata": {
    "id": "IIHYVBkuvPNw"
   },
   "source": [
    "この環境をレンダリングして、どのように見えるかを確認できます。台車の上に自由に振り動く棒を立て、その棒が倒れないように台車を左右に動かすことが目標です。"
   ]
  },
  {
   "cell_type": "code",
   "execution_count": 8,
   "metadata": {
    "execution": {
     "iopub.execute_input": "2021-02-12T22:22:21.389571Z",
     "iopub.status.busy": "2021-02-12T22:22:21.388670Z",
     "iopub.status.idle": "2021-02-12T22:22:21.850717Z",
     "shell.execute_reply": "2021-02-12T22:22:21.850258Z"
    },
    "id": "RlO7WIQHu_7D"
   },
   "outputs": [
    {
     "data": {
      "image/png": "[encoded data removed]",
      "text/plain": [
       "<PIL.Image.Image image mode=RGB size=600x400 at 0x7F850FBAF828>"
      ]
     },
     "execution_count": 1,
     "metadata": {},
     "output_type": "execute_result"
    }
   ],
   "source": [
    "#@test {\"skip\": true}\n",
    "env.reset()\n",
    "PIL.Image.fromarray(env.render())"
   ]
  },
  {
   "cell_type": "markdown",
   "metadata": {
    "id": "B9_lskPOey18"
   },
   "source": [
    "`environment.step`メソッドは、環境内で`action`を取り、環境の次の観測と行動の報酬を含む`TimeStep`タプルを返します。\n",
    "\n",
    "`time_step_spec()`メソッドは、`TimeStep`タプルの仕様を返します。その`observation`属性は、観測の形状、データ型、および許容値の範囲を示します。`reward`属性は、報酬についての同じ詳細を示します。\n"
   ]
  },
  {
   "cell_type": "code",
   "execution_count": 9,
   "metadata": {
    "execution": {
     "iopub.execute_input": "2021-02-12T22:22:21.859797Z",
     "iopub.status.busy": "2021-02-12T22:22:21.858969Z",
     "iopub.status.idle": "2021-02-12T22:22:21.861594Z",
     "shell.execute_reply": "2021-02-12T22:22:21.861978Z"
    },
    "id": "exDv57iHfwQV"
   },
   "outputs": [
    {
     "name": "stdout",
     "output_type": "stream",
     "text": [
      "Observation Spec:\n",
      "BoundedArraySpec(shape=(4,), dtype=dtype('float32'), name='observation', minimum=[-4.8000002e+00 -3.4028235e+38 -4.1887903e-01 -3.4028235e+38], maximum=[4.8000002e+00 3.4028235e+38 4.1887903e-01 3.4028235e+38])\n"
     ]
    }
   ],
   "source": [
    "print('Observation Spec:')\n",
    "print(env.time_step_spec().observation)"
   ]
  },
  {
   "cell_type": "code",
   "execution_count": 10,
   "metadata": {
    "execution": {
     "iopub.execute_input": "2021-02-12T22:22:21.866490Z",
     "iopub.status.busy": "2021-02-12T22:22:21.865749Z",
     "iopub.status.idle": "2021-02-12T22:22:21.868268Z",
     "shell.execute_reply": "2021-02-12T22:22:21.868700Z"
    },
    "id": "UxiSyCbBUQPi"
   },
   "outputs": [
    {
     "name": "stdout",
     "output_type": "stream",
     "text": [
      "Reward Spec:\n",
      "ArraySpec(shape=(), dtype=dtype('float32'), name='reward')\n"
     ]
    }
   ],
   "source": [
    "print('Reward Spec:')\n",
    "print(env.time_step_spec().reward)"
   ]
  },
  {
   "cell_type": "markdown",
   "metadata": {
    "id": "b_lHcIcqUaqB"
   },
   "source": [
    "`action_spec()`メソッドは、有効な行動の形状、データタイプ、および許容値を返します。"
   ]
  },
  {
   "cell_type": "code",
   "execution_count": 11,
   "metadata": {
    "execution": {
     "iopub.execute_input": "2021-02-12T22:22:21.872899Z",
     "iopub.status.busy": "2021-02-12T22:22:21.872172Z",
     "iopub.status.idle": "2021-02-12T22:22:21.874769Z",
     "shell.execute_reply": "2021-02-12T22:22:21.875283Z"
    },
    "id": "bttJ4uxZUQBr"
   },
   "outputs": [
    {
     "name": "stdout",
     "output_type": "stream",
     "text": [
      "Action Spec:\n",
      "BoundedArraySpec(shape=(), dtype=dtype('int64'), name='action', minimum=0, maximum=1)\n"
     ]
    }
   ],
   "source": [
    "print('Action Spec:')\n",
    "print(env.action_spec())"
   ]
  },
  {
   "cell_type": "markdown",
   "metadata": {
    "id": "eJCgJnx3g0yY"
   },
   "source": [
    "CartPole 環境では\n",
    "\n",
    "- `observation`は以下の 4 つの float 型の配列です。\n",
    "    - 台車の位置と速度\n",
    "    - 棒の角度位置と速度\n",
    "- `reward`はスカラーの浮動小数点値です\n",
    "- `action`は可能な値が 2 つだけのスカラー整数です。\n",
    "    - `0` — 「左に移動」\n",
    "    - `1` — 「右に移動」\n"
   ]
  },
  {
   "cell_type": "code",
   "execution_count": 12,
   "metadata": {
    "execution": {
     "iopub.execute_input": "2021-02-12T22:22:21.882903Z",
     "iopub.status.busy": "2021-02-12T22:22:21.882258Z",
     "iopub.status.idle": "2021-02-12T22:22:21.885282Z",
     "shell.execute_reply": "2021-02-12T22:22:21.884820Z"
    },
    "id": "V2UGR5t_iZX-"
   },
   "outputs": [
    {
     "name": "stdout",
     "output_type": "stream",
     "text": [
      "Time step:\n",
      "TimeStep(step_type=array(0, dtype=int32), reward=array(0., dtype=float32), discount=array(1., dtype=float32), observation=array([-0.0282033 , -0.04788824, -0.02078666,  0.04272398], dtype=float32))\n",
      "Next time step:\n",
      "TimeStep(step_type=array(1, dtype=int32), reward=array(1., dtype=float32), discount=array(1., dtype=float32), observation=array([-0.02916106,  0.14752552, -0.01993218, -0.2564442 ], dtype=float32))\n"
     ]
    }
   ],
   "source": [
    "time_step = env.reset()\n",
    "print('Time step:')\n",
    "print(time_step)\n",
    "\n",
    "action = np.array(1, dtype=np.int32)\n",
    "\n",
    "next_time_step = env.step(action)\n",
    "print('Next time step:')\n",
    "print(next_time_step)"
   ]
  },
  {
   "cell_type": "markdown",
   "metadata": {
    "id": "4JSc9GviWUBK"
   },
   "source": [
    "通常、2 つの環境（トレーニング用、評価用）のみがインスタンス化されます。 "
   ]
  },
  {
   "cell_type": "code",
   "execution_count": 13,
   "metadata": {
    "execution": {
     "iopub.execute_input": "2021-02-12T22:22:21.891274Z",
     "iopub.status.busy": "2021-02-12T22:22:21.890457Z",
     "iopub.status.idle": "2021-02-12T22:22:21.892464Z",
     "shell.execute_reply": "2021-02-12T22:22:21.892806Z"
    },
    "id": "N7brXNIGWXjC"
   },
   "outputs": [],
   "source": [
    "train_py_env = suite_gym.load(env_name)\n",
    "eval_py_env = suite_gym.load(env_name)"
   ]
  },
  {
   "cell_type": "markdown",
   "metadata": {
    "id": "zuUqXAVmecTU"
   },
   "source": [
    "CartPole 環境は、ほとんどの環境と同様に純粋な Python で記述されています。これは、`TFPyEnvironment`ラッパーを使用して TensorFlow に変換されます。\n",
    "\n",
    "従来の環境の API は Numpy 配列を使用します。`TFPyEnvironment`は、これらを`Tensors`に変換して、Tensorflow エージェントおよびポリシーとの互換性を確保します。\n"
   ]
  },
  {
   "cell_type": "code",
   "execution_count": 14,
   "metadata": {
    "execution": {
     "iopub.execute_input": "2021-02-12T22:22:21.897609Z",
     "iopub.status.busy": "2021-02-12T22:22:21.896922Z",
     "iopub.status.idle": "2021-02-12T22:22:21.906184Z",
     "shell.execute_reply": "2021-02-12T22:22:21.906582Z"
    },
    "id": "Xp-Y4mD6eDhF"
   },
   "outputs": [],
   "source": [
    "train_env = tf_py_environment.TFPyEnvironment(train_py_env)\n",
    "eval_env = tf_py_environment.TFPyEnvironment(eval_py_env)"
   ]
  },
  {
   "cell_type": "markdown",
   "metadata": {
    "id": "E9lW_OZYFR8A"
   },
   "source": [
    "## エージェント\n",
    "\n",
    "RL問題の解決に使用されるアルゴリズムは、`Agent`で表されます。TF-Agent は、以下を含むさまざまな`Agents`の標準実装を提供します。\n",
    "\n",
    "- [DQN](https://storage.googleapis.com/deepmind-media/dqn/DQNNaturePaper.pdf)（本チュートリアルで使用）\n",
    "- [REINFORCE](http://www-anw.cs.umass.edu/~barto/courses/cs687/williams92simple.pdf)\n",
    "- [DDPG](https://arxiv.org/pdf/1509.02971.pdf)\n",
    "- [TD3](https://arxiv.org/pdf/1802.09477.pdf)\n",
    "- [PPO](https://arxiv.org/abs/1707.06347)\n",
    "- [SAC](https://arxiv.org/abs/1801.01290)\n",
    "\n",
    "DQN エージェントは、個別の行動領域がある任意の環境で使用できます。\n",
    "\n",
    "DQN エージェントの中心にあるのが`QNetwork`です。これは、環境から観察を得て、すべての行動の`QValues`（予期される戻り値）を予測する方法を学習するニューラルネットワークモデルです。\n",
    "\n",
    "`tf_agents.networks.q_network`を使用して`QNetwork`を作成し、`observation_spec`、`action_spec`、およびモデルの非表示レイヤーの数とサイズを表すタプルを渡します。\n"
   ]
  },
  {
   "cell_type": "code",
   "execution_count": 15,
   "metadata": {
    "execution": {
     "iopub.execute_input": "2021-02-12T22:22:21.910972Z",
     "iopub.status.busy": "2021-02-12T22:22:21.910414Z",
     "iopub.status.idle": "2021-02-12T22:22:21.946848Z",
     "shell.execute_reply": "2021-02-12T22:22:21.946312Z"
    },
    "id": "TgkdEPg_muzV"
   },
   "outputs": [],
   "source": [
    "fc_layer_params = (100,)\n",
    "\n",
    "q_net = q_network.QNetwork(\n",
    "    train_env.observation_spec(),\n",
    "    train_env.action_spec(),\n",
    "    fc_layer_params=fc_layer_params)"
   ]
  },
  {
   "cell_type": "markdown",
   "metadata": {
    "id": "z62u55hSmviJ"
   },
   "source": [
    "`tf_agents.agents.dqn.dqn_agent`を使用して`DqnAgent`をインスタンス化します。`time_step_spec`、`action_spec`、および QNetwork に加えて、エージェントコンストラクタにもオプティマイザ（この場合、`AdamOptimizer`）、損失関数、および整数ステップカウンタが必要です。"
   ]
  },
  {
   "cell_type": "code",
   "execution_count": 16,
   "metadata": {
    "execution": {
     "iopub.execute_input": "2021-02-12T22:22:22.634467Z",
     "iopub.status.busy": "2021-02-12T22:22:22.633673Z",
     "iopub.status.idle": "2021-02-12T22:22:23.953705Z",
     "shell.execute_reply": "2021-02-12T22:22:23.953164Z"
    },
    "id": "jbY4yrjTEyc9"
   },
   "outputs": [],
   "source": [
    "optimizer = tf.compat.v1.train.AdamOptimizer(learning_rate=learning_rate)\n",
    "\n",
    "train_step_counter = tf.Variable(0)\n",
    "\n",
    "agent = dqn_agent.DqnAgent(\n",
    "    train_env.time_step_spec(),\n",
    "    train_env.action_spec(),\n",
    "    q_network=q_net,\n",
    "    optimizer=optimizer,\n",
    "    td_errors_loss_fn=common.element_wise_squared_loss,\n",
    "    train_step_counter=train_step_counter)\n",
    "\n",
    "agent.initialize()"
   ]
  },
  {
   "cell_type": "markdown",
   "metadata": {
    "id": "I0KLrEPwkn5x"
   },
   "source": [
    "## ポリシー\n",
    "\n",
    "ポリシーは、エージェントが環境で行動する方法を定義します。通常、強化学習の目標は、ポリシーが望ましい結果を生成するまで、基礎となるモデルをトレーニングすることです。\n",
    "\n",
    "このチュートリアルでは\n",
    "\n",
    "- 望ましい結果は、台車の上の棒が倒れないようにバランスを保つことです。\n",
    "- ポリシーは、`time_step`観測ごとに行動（左または右）を返します。\n",
    "\n",
    "エージェントには 2 つのポリシーが含まれています。\n",
    "\n",
    "- `agent.policy` — 評価とデプロイに使用される主なポリシー。\n",
    "- `agent.collect_policy` — データ収集に使用される補助的なポリシー。\n"
   ]
  },
  {
   "cell_type": "code",
   "execution_count": 17,
   "metadata": {
    "execution": {
     "iopub.execute_input": "2021-02-12T22:22:23.958289Z",
     "iopub.status.busy": "2021-02-12T22:22:23.957522Z",
     "iopub.status.idle": "2021-02-12T22:22:23.960142Z",
     "shell.execute_reply": "2021-02-12T22:22:23.959612Z"
    },
    "id": "BwY7StuMkuV4"
   },
   "outputs": [],
   "source": [
    "eval_policy = agent.policy\n",
    "collect_policy = agent.collect_policy"
   ]
  },
  {
   "cell_type": "markdown",
   "metadata": {
    "id": "2Qs1Fl3dV0ae"
   },
   "source": [
    "ポリシーはエージェントとは無関係に作成できます。たとえば、`tf_agents.policies.random_tf_policy`を使用して、各`time_step`の行動をランダムに選択するポリシーを作成できます。"
   ]
  },
  {
   "cell_type": "code",
   "execution_count": 18,
   "metadata": {
    "execution": {
     "iopub.execute_input": "2021-02-12T22:22:23.964841Z",
     "iopub.status.busy": "2021-02-12T22:22:23.964081Z",
     "iopub.status.idle": "2021-02-12T22:22:23.966454Z",
     "shell.execute_reply": "2021-02-12T22:22:23.965992Z"
    },
    "id": "HE37-UCIrE69"
   },
   "outputs": [],
   "source": [
    "random_policy = random_tf_policy.RandomTFPolicy(train_env.time_step_spec(),\n",
    "                                                train_env.action_spec())"
   ]
  },
  {
   "cell_type": "markdown",
   "metadata": {
    "id": "dOlnlRRsUbxP"
   },
   "source": [
    "ポリシーから行動を取得するには、`policy.action(time_step)`メソッドを呼び出します。`time_step`には、環境からの観測が含まれています。このメソッドは、3 つのコンポーネントを持つ名前付きタプルである`PolicyStep`を返します。\n",
    "\n",
    "- `action` — 実行する行動（ここでは`0`または`1`)\n",
    "- `state` — ステートフルポリシー（RNNベース）に使用\n",
    "- `info` — 行動のログ確率などの補助データ"
   ]
  },
  {
   "cell_type": "code",
   "execution_count": 19,
   "metadata": {
    "execution": {
     "iopub.execute_input": "2021-02-12T22:22:23.972096Z",
     "iopub.status.busy": "2021-02-12T22:22:23.971436Z",
     "iopub.status.idle": "2021-02-12T22:22:23.974875Z",
     "shell.execute_reply": "2021-02-12T22:22:23.974447Z"
    },
    "id": "5gCcpXswVAxk"
   },
   "outputs": [],
   "source": [
    "example_environment = tf_py_environment.TFPyEnvironment(\n",
    "    suite_gym.load('CartPole-v0'))"
   ]
  },
  {
   "cell_type": "code",
   "execution_count": 20,
   "metadata": {
    "execution": {
     "iopub.execute_input": "2021-02-12T22:22:23.978975Z",
     "iopub.status.busy": "2021-02-12T22:22:23.978207Z",
     "iopub.status.idle": "2021-02-12T22:22:23.981476Z",
     "shell.execute_reply": "2021-02-12T22:22:23.980951Z"
    },
    "id": "D4DHZtq3Ndis"
   },
   "outputs": [],
   "source": [
    "time_step = example_environment.reset()"
   ]
  },
  {
   "cell_type": "code",
   "execution_count": 21,
   "metadata": {
    "execution": {
     "iopub.execute_input": "2021-02-12T22:22:23.986127Z",
     "iopub.status.busy": "2021-02-12T22:22:23.985559Z",
     "iopub.status.idle": "2021-02-12T22:22:23.991615Z",
     "shell.execute_reply": "2021-02-12T22:22:23.991168Z"
    },
    "id": "PRFqAUzpNaAW"
   },
   "outputs": [
    {
     "data": {
      "text/plain": [
       "PolicyStep(action=<tf.Tensor: shape=(1,), dtype=int64, numpy=array([0])>, state=(), info=())"
      ]
     },
     "execution_count": 1,
     "metadata": {},
     "output_type": "execute_result"
    }
   ],
   "source": [
    "random_policy.action(time_step)"
   ]
  },
  {
   "cell_type": "markdown",
   "metadata": {
    "id": "94rCXQtbUbXv"
   },
   "source": [
    "## 指標と評価\n",
    "\n",
    "ポリシーの評価に使用される最も一般的な指標は、平均リターンです。リターンは、エピソードの環境でポリシーを実行中に取得した報酬の合計です。エピソードは何回か実行され、平均リターンが生成されます。\n",
    "\n",
    "次の関数は、ポリシー、環境、およびエピソードの数を指定して、ポリシーの平均リターンを計算します。\n"
   ]
  },
  {
   "cell_type": "code",
   "execution_count": 22,
   "metadata": {
    "execution": {
     "iopub.execute_input": "2021-02-12T22:22:23.997710Z",
     "iopub.status.busy": "2021-02-12T22:22:23.996994Z",
     "iopub.status.idle": "2021-02-12T22:22:23.999468Z",
     "shell.execute_reply": "2021-02-12T22:22:23.998979Z"
    },
    "id": "bitzHo5_UbXy"
   },
   "outputs": [],
   "source": [
    "#@test {\"skip\": true}\n",
    "def compute_avg_return(environment, policy, num_episodes=10):\n",
    "\n",
    "  total_return = 0.0\n",
    "  for _ in range(num_episodes):\n",
    "\n",
    "    time_step = environment.reset()\n",
    "    episode_return = 0.0\n",
    "\n",
    "    while not time_step.is_last():\n",
    "      action_step = policy.action(time_step)\n",
    "      time_step = environment.step(action_step.action)\n",
    "      episode_return += time_step.reward\n",
    "    total_return += episode_return\n",
    "\n",
    "  avg_return = total_return / num_episodes\n",
    "  return avg_return.numpy()[0]\n",
    "\n",
    "\n",
    "# See also the metrics module for standard implementations of different metrics.\n",
    "# https://github.com/tensorflow/agents/tree/master/tf_agents/metrics"
   ]
  },
  {
   "cell_type": "markdown",
   "metadata": {
    "id": "_snCVvq5Z8lJ"
   },
   "source": [
    "この計算を`random_policy`で実行すると、環境のベースラインパフォーマンスが示されます。"
   ]
  },
  {
   "cell_type": "code",
   "execution_count": 23,
   "metadata": {
    "execution": {
     "iopub.execute_input": "2021-02-12T22:22:24.004020Z",
     "iopub.status.busy": "2021-02-12T22:22:24.003430Z",
     "iopub.status.idle": "2021-02-12T22:22:24.394562Z",
     "shell.execute_reply": "2021-02-12T22:22:24.394066Z"
    },
    "id": "9bgU6Q6BZ8Bp"
   },
   "outputs": [
    {
     "data": {
      "text/plain": [
       "18.8"
      ]
     },
     "execution_count": 1,
     "metadata": {},
     "output_type": "execute_result"
    }
   ],
   "source": [
    "compute_avg_return(eval_env, random_policy, num_eval_episodes)"
   ]
  },
  {
   "cell_type": "markdown",
   "metadata": {
    "id": "NLva6g2jdWgr"
   },
   "source": [
    "## 再生バッファ\n",
    "\n",
    "再生バッファは、環境から収集されたデータを追跡します。このチュートリアルでは最も一般的な`tf_agents.replay_buffers.tf_uniform_replay_buffer.TFUniformReplayBuffer`を使用します。\n",
    "\n",
    "コンストラクタは、収集するデータの仕様を必要とします。これは、`collect_data_spec`メソッドを使用してエージェントから入手できます。バッチサイズと最大バッファ長も必要です。\n"
   ]
  },
  {
   "cell_type": "code",
   "execution_count": 24,
   "metadata": {
    "execution": {
     "iopub.execute_input": "2021-02-12T22:22:24.399611Z",
     "iopub.status.busy": "2021-02-12T22:22:24.398982Z",
     "iopub.status.idle": "2021-02-12T22:22:24.409649Z",
     "shell.execute_reply": "2021-02-12T22:22:24.409234Z"
    },
    "id": "vX2zGUWJGWAl"
   },
   "outputs": [],
   "source": [
    "replay_buffer = tf_uniform_replay_buffer.TFUniformReplayBuffer(\n",
    "    data_spec=agent.collect_data_spec,\n",
    "    batch_size=train_env.batch_size,\n",
    "    max_length=replay_buffer_max_length)"
   ]
  },
  {
   "cell_type": "markdown",
   "metadata": {
    "id": "ZGNTDJpZs4NN"
   },
   "source": [
    "ほとんどのエージェントの場合、`collect_data_spec`は、`Trajectory`と呼ばれる名前付きタプルであり、観測、行動、報酬、およびその他の要素の仕様が含まれています。"
   ]
  },
  {
   "cell_type": "code",
   "execution_count": 25,
   "metadata": {
    "execution": {
     "iopub.execute_input": "2021-02-12T22:22:24.414858Z",
     "iopub.status.busy": "2021-02-12T22:22:24.414068Z",
     "iopub.status.idle": "2021-02-12T22:22:24.417439Z",
     "shell.execute_reply": "2021-02-12T22:22:24.417005Z"
    },
    "id": "_IZ-3HcqgE1z"
   },
   "outputs": [
    {
     "data": {
      "text/plain": [
       "Trajectory(step_type=TensorSpec(shape=(), dtype=tf.int32, name='step_type'), observation=BoundedTensorSpec(shape=(4,), dtype=tf.float32, name='observation', minimum=array([-4.8000002e+00, -3.4028235e+38, -4.1887903e-01, -3.4028235e+38],\n",
       "      dtype=float32), maximum=array([4.8000002e+00, 3.4028235e+38, 4.1887903e-01, 3.4028235e+38],\n",
       "      dtype=float32)), action=BoundedTensorSpec(shape=(), dtype=tf.int64, name='action', minimum=array(0), maximum=array(1)), policy_info=(), next_step_type=TensorSpec(shape=(), dtype=tf.int32, name='step_type'), reward=TensorSpec(shape=(), dtype=tf.float32, name='reward'), discount=BoundedTensorSpec(shape=(), dtype=tf.float32, name='discount', minimum=array(0., dtype=float32), maximum=array(1., dtype=float32)))"
      ]
     },
     "execution_count": 1,
     "metadata": {},
     "output_type": "execute_result"
    }
   ],
   "source": [
    "agent.collect_data_spec"
   ]
  },
  {
   "cell_type": "code",
   "execution_count": 26,
   "metadata": {
    "execution": {
     "iopub.execute_input": "2021-02-12T22:22:24.421568Z",
     "iopub.status.busy": "2021-02-12T22:22:24.420842Z",
     "iopub.status.idle": "2021-02-12T22:22:24.423986Z",
     "shell.execute_reply": "2021-02-12T22:22:24.423561Z"
    },
    "id": "sy6g1tGcfRlw"
   },
   "outputs": [
    {
     "data": {
      "text/plain": [
       "('step_type',\n",
       " 'observation',\n",
       " 'action',\n",
       " 'policy_info',\n",
       " 'next_step_type',\n",
       " 'reward',\n",
       " 'discount')"
      ]
     },
     "execution_count": 1,
     "metadata": {},
     "output_type": "execute_result"
    }
   ],
   "source": [
    "agent.collect_data_spec._fields"
   ]
  },
  {
   "cell_type": "markdown",
   "metadata": {
    "id": "rVD5nQ9ZGo8_"
   },
   "source": [
    "## データ収集\n",
    "\n",
    "次に、環境でランダムポリシーを数ステップ実行し、データを再生バッファに記録します。"
   ]
  },
  {
   "cell_type": "code",
   "execution_count": 27,
   "metadata": {
    "execution": {
     "iopub.execute_input": "2021-02-12T22:22:24.429670Z",
     "iopub.status.busy": "2021-02-12T22:22:24.429097Z",
     "iopub.status.idle": "2021-02-12T22:22:24.797209Z",
     "shell.execute_reply": "2021-02-12T22:22:24.797614Z"
    },
    "id": "wr1KSAEGG4h9"
   },
   "outputs": [],
   "source": [
    "#@test {\"skip\": true}\n",
    "def collect_step(environment, policy, buffer):\n",
    "  time_step = environment.current_time_step()\n",
    "  action_step = policy.action(time_step)\n",
    "  next_time_step = environment.step(action_step.action)\n",
    "  traj = trajectory.from_transition(time_step, action_step, next_time_step)\n",
    "\n",
    "  # Add trajectory to the replay buffer\n",
    "  buffer.add_batch(traj)\n",
    "\n",
    "def collect_data(env, policy, buffer, steps):\n",
    "  for _ in range(steps):\n",
    "    collect_step(env, policy, buffer)\n",
    "\n",
    "collect_data(train_env, random_policy, replay_buffer, steps=100)\n",
    "\n",
    "# This loop is so common in RL, that we provide standard implementations. \n",
    "# For more details see the drivers module.\n",
    "# https://www.tensorflow.org/agents/api_docs/python/tf_agents/drivers"
   ]
  },
  {
   "cell_type": "markdown",
   "metadata": {
    "id": "84z5pQJdoKxo"
   },
   "source": [
    "再生バッファは Trajectory のコレクションではありません。"
   ]
  },
  {
   "cell_type": "code",
   "execution_count": 28,
   "metadata": {
    "execution": {
     "iopub.execute_input": "2021-02-12T22:22:24.801706Z",
     "iopub.status.busy": "2021-02-12T22:22:24.800991Z",
     "iopub.status.idle": "2021-02-12T22:22:24.802924Z",
     "shell.execute_reply": "2021-02-12T22:22:24.803319Z"
    },
    "id": "4wZnLu2ViO4E"
   },
   "outputs": [],
   "source": [
    "# For the curious:\n",
    "# Uncomment to peel one of these off and inspect it.\n",
    "# iter(replay_buffer.as_dataset()).next()"
   ]
  },
  {
   "cell_type": "markdown",
   "metadata": {
    "id": "TujU-PMUsKjS"
   },
   "source": [
    "エージェントは再生バッファにアクセスする必要があります。これは、エージェントにデータをフィードするイテレーション可能な`tf.data.Dataset`パイプラインを作成することにより提供されます。\n",
    "\n",
    "再生バッファの各行には、1 つの観測ステップのみが格納されます。しかし、DQN エージェントは損失を計算するためにその時点の観測と次の観測を両方必要とするので、データセットパイプラインは、バッチ内の要素ごとに2つの隣接する行をサンプリングします(`num_steps=2`)。\n",
    "\n",
    "また、このデータセットは、並列呼び出しを実行してデータをプリフェッチすることにより最適化されます。"
   ]
  },
  {
   "cell_type": "code",
   "execution_count": 29,
   "metadata": {
    "execution": {
     "iopub.execute_input": "2021-02-12T22:22:24.807786Z",
     "iopub.status.busy": "2021-02-12T22:22:24.807174Z",
     "iopub.status.idle": "2021-02-12T22:22:25.495130Z",
     "shell.execute_reply": "2021-02-12T22:22:25.494624Z"
    },
    "id": "ba7bilizt_qW"
   },
   "outputs": [
    {
     "name": "stdout",
     "output_type": "stream",
     "text": [
      "WARNING:tensorflow:From /tmpfs/src/tf_docs_env/lib/python3.6/site-packages/tensorflow/python/autograph/operators/control_flow.py:1218: ReplayBuffer.get_next (from tf_agents.replay_buffers.replay_buffer) is deprecated and will be removed in a future version.\n",
      "Instructions for updating:\n",
      "Use `as_dataset(..., single_deterministic_pass=False) instead.\n"
     ]
    },
    {
     "data": {
      "text/plain": [
       "<PrefetchDataset shapes: (Trajectory(step_type=(64, 2), observation=(64, 2, 4), action=(64, 2), policy_info=(), next_step_type=(64, 2), reward=(64, 2), discount=(64, 2)), BufferInfo(ids=(64, 2), probabilities=(64,))), types: (Trajectory(step_type=tf.int32, observation=tf.float32, action=tf.int64, policy_info=(), next_step_type=tf.int32, reward=tf.float32, discount=tf.float32), BufferInfo(ids=tf.int64, probabilities=tf.float32))>"
      ]
     },
     "execution_count": 1,
     "metadata": {},
     "output_type": "execute_result"
    }
   ],
   "source": [
    "# Dataset generates trajectories with shape [Bx2x...]\n",
    "dataset = replay_buffer.as_dataset(\n",
    "    num_parallel_calls=3, \n",
    "    sample_batch_size=batch_size, \n",
    "    num_steps=2).prefetch(3)\n",
    "\n",
    "\n",
    "dataset"
   ]
  },
  {
   "cell_type": "code",
   "execution_count": 30,
   "metadata": {
    "execution": {
     "iopub.execute_input": "2021-02-12T22:22:25.500181Z",
     "iopub.status.busy": "2021-02-12T22:22:25.499562Z",
     "iopub.status.idle": "2021-02-12T22:22:25.549920Z",
     "shell.execute_reply": "2021-02-12T22:22:25.549455Z"
    },
    "id": "K13AST-2ppOq"
   },
   "outputs": [
    {
     "name": "stdout",
     "output_type": "stream",
     "text": [
      "<tensorflow.python.data.ops.iterator_ops.OwnedIterator object at 0x7f84cc723160>\n"
     ]
    }
   ],
   "source": [
    "iterator = iter(dataset)\n",
    "\n",
    "print(iterator)\n"
   ]
  },
  {
   "cell_type": "code",
   "execution_count": 31,
   "metadata": {
    "execution": {
     "iopub.execute_input": "2021-02-12T22:22:25.553608Z",
     "iopub.status.busy": "2021-02-12T22:22:25.552910Z",
     "iopub.status.idle": "2021-02-12T22:22:25.555319Z",
     "shell.execute_reply": "2021-02-12T22:22:25.554833Z"
    },
    "id": "Th5w5Sff0b16"
   },
   "outputs": [],
   "source": [
    "# For the curious:\n",
    "# Uncomment to see what the dataset iterator is feeding to the agent.\n",
    "# Compare this representation of replay data \n",
    "# to the collection of individual trajectories shown earlier.\n",
    "\n",
    "# iterator.next()"
   ]
  },
  {
   "cell_type": "markdown",
   "metadata": {
    "id": "hBc9lj9VWWtZ"
   },
   "source": [
    "## エージェントのトレーニング\n",
    "\n",
    "トレーニングループ時には、以下の 2 つが行われる必要があります。\n",
    "\n",
    "- 環境からデータを収集する\n",
    "- そのデータを使用してエージェントのニューラルネットワークをトレーニングする\n",
    "\n",
    "この例では、定期的にポリシーを評価し、その時点のスコアを出力します。\n",
    "\n",
    "以下の実行には 5 分ほどかかります。"
   ]
  },
  {
   "cell_type": "code",
   "execution_count": 32,
   "metadata": {
    "execution": {
     "iopub.execute_input": "2021-02-12T22:22:25.564760Z",
     "iopub.status.busy": "2021-02-12T22:22:25.564033Z",
     "iopub.status.idle": "2021-02-12T22:28:40.625837Z",
     "shell.execute_reply": "2021-02-12T22:28:40.626273Z"
    },
    "id": "0pTbJ3PeyF-u"
   },
   "outputs": [
    {
     "name": "stdout",
     "output_type": "stream",
     "text": [
      "WARNING:tensorflow:From /tmpfs/src/tf_docs_env/lib/python3.6/site-packages/tensorflow/python/util/dispatch.py:201: calling foldr_v2 (from tensorflow.python.ops.functional_ops) with back_prop=False is deprecated and will be removed in a future version.\n",
      "Instructions for updating:\n",
      "back_prop=False is deprecated. Consider using tf.stop_gradient instead.\n",
      "Instead of:\n",
      "results = tf.foldr(fn, elems, back_prop=False)\n",
      "Use:\n",
      "results = tf.nest.map_structure(tf.stop_gradient, tf.foldr(fn, elems))\n"
     ]
    },
    {
     "name": "stdout",
     "output_type": "stream",
     "text": [
      "step = 200: loss = 26.031688690185547\n"
     ]
    },
    {
     "name": "stdout",
     "output_type": "stream",
     "text": [
      "step = 400: loss = 5.314972400665283\n"
     ]
    },
    {
     "name": "stdout",
     "output_type": "stream",
     "text": [
      "step = 600: loss = 5.50214147567749\n"
     ]
    },
    {
     "name": "stdout",
     "output_type": "stream",
     "text": [
      "step = 800: loss = 16.61824607849121\n"
     ]
    },
    {
     "name": "stdout",
     "output_type": "stream",
     "text": [
      "step = 1000: loss = 29.10118293762207\n"
     ]
    },
    {
     "name": "stdout",
     "output_type": "stream",
     "text": [
      "step = 1000: Average Return = 151.6999969482422\n"
     ]
    },
    {
     "name": "stdout",
     "output_type": "stream",
     "text": [
      "step = 1200: loss = 57.56373596191406\n"
     ]
    },
    {
     "name": "stdout",
     "output_type": "stream",
     "text": [
      "step = 1400: loss = 61.819091796875\n"
     ]
    },
    {
     "name": "stdout",
     "output_type": "stream",
     "text": [
      "step = 1600: loss = 5.503599166870117\n"
     ]
    },
    {
     "name": "stdout",
     "output_type": "stream",
     "text": [
      "step = 1800: loss = 59.7533073425293\n"
     ]
    },
    {
     "name": "stdout",
     "output_type": "stream",
     "text": [
      "step = 2000: loss = 81.48899841308594\n"
     ]
    },
    {
     "name": "stdout",
     "output_type": "stream",
     "text": [
      "step = 2000: Average Return = 149.5\n"
     ]
    },
    {
     "name": "stdout",
     "output_type": "stream",
     "text": [
      "step = 2200: loss = 14.238945007324219\n"
     ]
    },
    {
     "name": "stdout",
     "output_type": "stream",
     "text": [
      "step = 2400: loss = 21.271509170532227\n"
     ]
    },
    {
     "name": "stdout",
     "output_type": "stream",
     "text": [
      "step = 2600: loss = 714.9962768554688\n"
     ]
    },
    {
     "name": "stdout",
     "output_type": "stream",
     "text": [
      "step = 2800: loss = 432.18438720703125\n"
     ]
    },
    {
     "name": "stdout",
     "output_type": "stream",
     "text": [
      "step = 3000: loss = 31.756074905395508\n"
     ]
    },
    {
     "name": "stdout",
     "output_type": "stream",
     "text": [
      "step = 3000: Average Return = 68.69999694824219\n"
     ]
    },
    {
     "name": "stdout",
     "output_type": "stream",
     "text": [
      "step = 3200: loss = 245.41600036621094\n"
     ]
    },
    {
     "name": "stdout",
     "output_type": "stream",
     "text": [
      "step = 3400: loss = 49.524330139160156\n"
     ]
    },
    {
     "name": "stdout",
     "output_type": "stream",
     "text": [
      "step = 3600: loss = 854.413818359375\n"
     ]
    },
    {
     "name": "stdout",
     "output_type": "stream",
     "text": [
      "step = 3800: loss = 642.3952026367188\n"
     ]
    },
    {
     "name": "stdout",
     "output_type": "stream",
     "text": [
      "step = 4000: loss = 340.8377990722656\n"
     ]
    },
    {
     "name": "stdout",
     "output_type": "stream",
     "text": [
      "step = 4000: Average Return = 74.5\n"
     ]
    },
    {
     "name": "stdout",
     "output_type": "stream",
     "text": [
      "step = 4200: loss = 740.2651977539062\n"
     ]
    },
    {
     "name": "stdout",
     "output_type": "stream",
     "text": [
      "step = 4400: loss = 1225.3353271484375\n"
     ]
    },
    {
     "name": "stdout",
     "output_type": "stream",
     "text": [
      "step = 4600: loss = 457.6378479003906\n"
     ]
    },
    {
     "name": "stdout",
     "output_type": "stream",
     "text": [
      "step = 4800: loss = 1717.94091796875\n"
     ]
    },
    {
     "name": "stdout",
     "output_type": "stream",
     "text": [
      "step = 5000: loss = 208.09521484375\n"
     ]
    },
    {
     "name": "stdout",
     "output_type": "stream",
     "text": [
      "step = 5000: Average Return = 54.599998474121094\n"
     ]
    },
    {
     "name": "stdout",
     "output_type": "stream",
     "text": [
      "step = 5200: loss = 396.01123046875\n"
     ]
    },
    {
     "name": "stdout",
     "output_type": "stream",
     "text": [
      "step = 5400: loss = 1565.9281005859375\n"
     ]
    },
    {
     "name": "stdout",
     "output_type": "stream",
     "text": [
      "step = 5600: loss = 89.62256622314453\n"
     ]
    },
    {
     "name": "stdout",
     "output_type": "stream",
     "text": [
      "step = 5800: loss = 266.5655212402344\n"
     ]
    },
    {
     "name": "stdout",
     "output_type": "stream",
     "text": [
      "step = 6000: loss = 231.2029266357422\n"
     ]
    },
    {
     "name": "stdout",
     "output_type": "stream",
     "text": [
      "step = 6000: Average Return = 86.80000305175781\n"
     ]
    },
    {
     "name": "stdout",
     "output_type": "stream",
     "text": [
      "step = 6200: loss = 243.82525634765625\n"
     ]
    },
    {
     "name": "stdout",
     "output_type": "stream",
     "text": [
      "step = 6400: loss = 151.86875915527344\n"
     ]
    },
    {
     "name": "stdout",
     "output_type": "stream",
     "text": [
      "step = 6600: loss = 139.1936798095703\n"
     ]
    },
    {
     "name": "stdout",
     "output_type": "stream",
     "text": [
      "step = 6800: loss = 281.7527160644531\n"
     ]
    },
    {
     "name": "stdout",
     "output_type": "stream",
     "text": [
      "step = 7000: loss = 112.37540435791016\n"
     ]
    },
    {
     "name": "stdout",
     "output_type": "stream",
     "text": [
      "step = 7000: Average Return = 143.1999969482422\n"
     ]
    },
    {
     "name": "stdout",
     "output_type": "stream",
     "text": [
      "step = 7200: loss = 108.10910034179688\n"
     ]
    },
    {
     "name": "stdout",
     "output_type": "stream",
     "text": [
      "step = 7400: loss = 18.46331787109375\n"
     ]
    },
    {
     "name": "stdout",
     "output_type": "stream",
     "text": [
      "step = 7600: loss = 1931.9803466796875\n"
     ]
    },
    {
     "name": "stdout",
     "output_type": "stream",
     "text": [
      "step = 7800: loss = 1408.3668212890625\n"
     ]
    },
    {
     "name": "stdout",
     "output_type": "stream",
     "text": [
      "step = 8000: loss = 279.8353576660156\n"
     ]
    },
    {
     "name": "stdout",
     "output_type": "stream",
     "text": [
      "step = 8000: Average Return = 156.60000610351562\n"
     ]
    },
    {
     "name": "stdout",
     "output_type": "stream",
     "text": [
      "step = 8200: loss = 17.501930236816406\n"
     ]
    },
    {
     "name": "stdout",
     "output_type": "stream",
     "text": [
      "step = 8400: loss = 19.664348602294922\n"
     ]
    },
    {
     "name": "stdout",
     "output_type": "stream",
     "text": [
      "step = 8600: loss = 17.774032592773438\n"
     ]
    },
    {
     "name": "stdout",
     "output_type": "stream",
     "text": [
      "step = 8800: loss = 190.37933349609375\n"
     ]
    },
    {
     "name": "stdout",
     "output_type": "stream",
     "text": [
      "step = 9000: loss = 456.5616455078125\n"
     ]
    },
    {
     "name": "stdout",
     "output_type": "stream",
     "text": [
      "step = 9000: Average Return = 195.3000030517578\n"
     ]
    },
    {
     "name": "stdout",
     "output_type": "stream",
     "text": [
      "step = 9200: loss = 1339.147705078125\n"
     ]
    },
    {
     "name": "stdout",
     "output_type": "stream",
     "text": [
      "step = 9400: loss = 305.4017028808594\n"
     ]
    },
    {
     "name": "stdout",
     "output_type": "stream",
     "text": [
      "step = 9600: loss = 85.6674575805664\n"
     ]
    },
    {
     "name": "stdout",
     "output_type": "stream",
     "text": [
      "step = 9800: loss = 145.49986267089844\n"
     ]
    },
    {
     "name": "stdout",
     "output_type": "stream",
     "text": [
      "step = 10000: loss = 45.751380920410156\n"
     ]
    },
    {
     "name": "stdout",
     "output_type": "stream",
     "text": [
      "step = 10000: Average Return = 200.0\n"
     ]
    },
    {
     "name": "stdout",
     "output_type": "stream",
     "text": [
      "step = 10200: loss = 111.9870834350586\n"
     ]
    },
    {
     "name": "stdout",
     "output_type": "stream",
     "text": [
      "step = 10400: loss = 244.15025329589844\n"
     ]
    },
    {
     "name": "stdout",
     "output_type": "stream",
     "text": [
      "step = 10600: loss = 171.58120727539062\n"
     ]
    },
    {
     "name": "stdout",
     "output_type": "stream",
     "text": [
      "step = 10800: loss = 13.996395111083984\n"
     ]
    },
    {
     "name": "stdout",
     "output_type": "stream",
     "text": [
      "step = 11000: loss = 140.0017852783203\n"
     ]
    },
    {
     "name": "stdout",
     "output_type": "stream",
     "text": [
      "step = 11000: Average Return = 200.0\n"
     ]
    },
    {
     "name": "stdout",
     "output_type": "stream",
     "text": [
      "step = 11200: loss = 23.76217269897461\n"
     ]
    },
    {
     "name": "stdout",
     "output_type": "stream",
     "text": [
      "step = 11400: loss = 1000.08935546875\n"
     ]
    },
    {
     "name": "stdout",
     "output_type": "stream",
     "text": [
      "step = 11600: loss = 458.71331787109375\n"
     ]
    },
    {
     "name": "stdout",
     "output_type": "stream",
     "text": [
      "step = 11800: loss = 38.53162384033203\n"
     ]
    },
    {
     "name": "stdout",
     "output_type": "stream",
     "text": [
      "step = 12000: loss = 13.367055892944336\n"
     ]
    },
    {
     "name": "stdout",
     "output_type": "stream",
     "text": [
      "step = 12000: Average Return = 200.0\n"
     ]
    },
    {
     "name": "stdout",
     "output_type": "stream",
     "text": [
      "step = 12200: loss = 27.199668884277344\n"
     ]
    },
    {
     "name": "stdout",
     "output_type": "stream",
     "text": [
      "step = 12400: loss = 22.037113189697266\n"
     ]
    },
    {
     "name": "stdout",
     "output_type": "stream",
     "text": [
      "step = 12600: loss = 14.54778003692627\n"
     ]
    },
    {
     "name": "stdout",
     "output_type": "stream",
     "text": [
      "step = 12800: loss = 13.551041603088379\n"
     ]
    },
    {
     "name": "stdout",
     "output_type": "stream",
     "text": [
      "step = 13000: loss = 24.765060424804688\n"
     ]
    },
    {
     "name": "stdout",
     "output_type": "stream",
     "text": [
      "step = 13000: Average Return = 196.39999389648438\n"
     ]
    },
    {
     "name": "stdout",
     "output_type": "stream",
     "text": [
      "step = 13200: loss = 13.768646240234375\n"
     ]
    },
    {
     "name": "stdout",
     "output_type": "stream",
     "text": [
      "step = 13400: loss = 42.01901626586914\n"
     ]
    },
    {
     "name": "stdout",
     "output_type": "stream",
     "text": [
      "step = 13600: loss = 708.3466796875\n"
     ]
    },
    {
     "name": "stdout",
     "output_type": "stream",
     "text": [
      "step = 13800: loss = 27.82616424560547\n"
     ]
    },
    {
     "name": "stdout",
     "output_type": "stream",
     "text": [
      "step = 14000: loss = 2113.056640625\n"
     ]
    },
    {
     "name": "stdout",
     "output_type": "stream",
     "text": [
      "step = 14000: Average Return = 200.0\n"
     ]
    },
    {
     "name": "stdout",
     "output_type": "stream",
     "text": [
      "step = 14200: loss = 23.315961837768555\n"
     ]
    },
    {
     "name": "stdout",
     "output_type": "stream",
     "text": [
      "step = 14400: loss = 778.3829345703125\n"
     ]
    },
    {
     "name": "stdout",
     "output_type": "stream",
     "text": [
      "step = 14600: loss = 794.56689453125\n"
     ]
    },
    {
     "name": "stdout",
     "output_type": "stream",
     "text": [
      "step = 14800: loss = 32.738624572753906\n"
     ]
    },
    {
     "name": "stdout",
     "output_type": "stream",
     "text": [
      "step = 15000: loss = 33.288021087646484\n"
     ]
    },
    {
     "name": "stdout",
     "output_type": "stream",
     "text": [
      "step = 15000: Average Return = 200.0\n"
     ]
    },
    {
     "name": "stdout",
     "output_type": "stream",
     "text": [
      "step = 15200: loss = 52.65998077392578\n"
     ]
    },
    {
     "name": "stdout",
     "output_type": "stream",
     "text": [
      "step = 15400: loss = 1230.9066162109375\n"
     ]
    },
    {
     "name": "stdout",
     "output_type": "stream",
     "text": [
      "step = 15600: loss = 49.63909912109375\n"
     ]
    },
    {
     "name": "stdout",
     "output_type": "stream",
     "text": [
      "step = 15800: loss = 2566.757080078125\n"
     ]
    },
    {
     "name": "stdout",
     "output_type": "stream",
     "text": [
      "step = 16000: loss = 33.33224868774414\n"
     ]
    },
    {
     "name": "stdout",
     "output_type": "stream",
     "text": [
      "step = 16000: Average Return = 200.0\n"
     ]
    },
    {
     "name": "stdout",
     "output_type": "stream",
     "text": [
      "step = 16200: loss = 42.63489532470703\n"
     ]
    },
    {
     "name": "stdout",
     "output_type": "stream",
     "text": [
      "step = 16400: loss = 45.52163314819336\n"
     ]
    },
    {
     "name": "stdout",
     "output_type": "stream",
     "text": [
      "step = 16600: loss = 1360.7489013671875\n"
     ]
    },
    {
     "name": "stdout",
     "output_type": "stream",
     "text": [
      "step = 16800: loss = 40.121482849121094\n"
     ]
    },
    {
     "name": "stdout",
     "output_type": "stream",
     "text": [
      "step = 17000: loss = 88.85276794433594\n"
     ]
    },
    {
     "name": "stdout",
     "output_type": "stream",
     "text": [
      "step = 17000: Average Return = 200.0\n"
     ]
    },
    {
     "name": "stdout",
     "output_type": "stream",
     "text": [
      "step = 17200: loss = 37.30867004394531\n"
     ]
    },
    {
     "name": "stdout",
     "output_type": "stream",
     "text": [
      "step = 17400: loss = 1714.3226318359375\n"
     ]
    },
    {
     "name": "stdout",
     "output_type": "stream",
     "text": [
      "step = 17600: loss = 3302.299560546875\n"
     ]
    },
    {
     "name": "stdout",
     "output_type": "stream",
     "text": [
      "step = 17800: loss = 48.68688201904297\n"
     ]
    },
    {
     "name": "stdout",
     "output_type": "stream",
     "text": [
      "step = 18000: loss = 3574.722900390625\n"
     ]
    },
    {
     "name": "stdout",
     "output_type": "stream",
     "text": [
      "step = 18000: Average Return = 200.0\n"
     ]
    },
    {
     "name": "stdout",
     "output_type": "stream",
     "text": [
      "step = 18200: loss = 68.59884643554688\n"
     ]
    },
    {
     "name": "stdout",
     "output_type": "stream",
     "text": [
      "step = 18400: loss = 49.48236083984375\n"
     ]
    },
    {
     "name": "stdout",
     "output_type": "stream",
     "text": [
      "step = 18600: loss = 131.61178588867188\n"
     ]
    },
    {
     "name": "stdout",
     "output_type": "stream",
     "text": [
      "step = 18800: loss = 6955.58349609375\n"
     ]
    },
    {
     "name": "stdout",
     "output_type": "stream",
     "text": [
      "step = 19000: loss = 80.3465576171875\n"
     ]
    },
    {
     "name": "stdout",
     "output_type": "stream",
     "text": [
      "step = 19000: Average Return = 200.0\n"
     ]
    },
    {
     "name": "stdout",
     "output_type": "stream",
     "text": [
      "step = 19200: loss = 2100.316650390625\n"
     ]
    },
    {
     "name": "stdout",
     "output_type": "stream",
     "text": [
      "step = 19400: loss = 4835.74267578125\n"
     ]
    },
    {
     "name": "stdout",
     "output_type": "stream",
     "text": [
      "step = 19600: loss = 49.40709686279297\n"
     ]
    },
    {
     "name": "stdout",
     "output_type": "stream",
     "text": [
      "step = 19800: loss = 104.12965393066406\n"
     ]
    },
    {
     "name": "stdout",
     "output_type": "stream",
     "text": [
      "step = 20000: loss = 3127.011962890625\n"
     ]
    },
    {
     "name": "stdout",
     "output_type": "stream",
     "text": [
      "step = 20000: Average Return = 200.0\n"
     ]
    }
   ],
   "source": [
    "#@test {\"skip\": true}\n",
    "try:\n",
    "  %%time\n",
    "except:\n",
    "  pass\n",
    "\n",
    "# (Optional) Optimize by wrapping some of the code in a graph using TF function.\n",
    "agent.train = common.function(agent.train)\n",
    "\n",
    "# Reset the train step\n",
    "agent.train_step_counter.assign(0)\n",
    "\n",
    "# Evaluate the agent's policy once before training.\n",
    "avg_return = compute_avg_return(eval_env, agent.policy, num_eval_episodes)\n",
    "returns = [avg_return]\n",
    "\n",
    "for _ in range(num_iterations):\n",
    "\n",
    "  # Collect a few steps using collect_policy and save to the replay buffer.\n",
    "  for _ in range(collect_steps_per_iteration):\n",
    "    collect_step(train_env, agent.collect_policy, replay_buffer)\n",
    "\n",
    "  # Sample a batch of data from the buffer and update the agent's network.\n",
    "  experience, unused_info = next(iterator)\n",
    "  train_loss = agent.train(experience).loss\n",
    "\n",
    "  step = agent.train_step_counter.numpy()\n",
    "\n",
    "  if step % log_interval == 0:\n",
    "    print('step = {0}: loss = {1}'.format(step, train_loss))\n",
    "\n",
    "  if step % eval_interval == 0:\n",
    "    avg_return = compute_avg_return(eval_env, agent.policy, num_eval_episodes)\n",
    "    print('step = {0}: Average Return = {1}'.format(step, avg_return))\n",
    "    returns.append(avg_return)"
   ]
  },
  {
   "cell_type": "markdown",
   "metadata": {
    "id": "68jNcA_TiJDq"
   },
   "source": [
    "## 可視化\n"
   ]
  },
  {
   "cell_type": "markdown",
   "metadata": {
    "id": "aO-LWCdbbOIC"
   },
   "source": [
    "### プロット\n",
    "\n",
    "`matplotlib.pyplot`を使用して、トレーニング中にポリシーがどのように改善されたかをグラフ化します。\n",
    "\n",
    "`Cartpole-v0`の 1 回のイテレーションには、200のタイムステップがあります。環境は、棒が立ったままでいる各ステップに対して`+1`の報酬を与えるので、1 つのエピソードの最大リターンは 200 です。グラフは、トレーニング中に評価されるたびに、最大値に向かって増加するリターンを示しています。（多少不安定になり、毎回単調に増加しないこともあります。）"
   ]
  },
  {
   "cell_type": "code",
   "execution_count": 33,
   "metadata": {
    "execution": {
     "iopub.execute_input": "2021-02-12T22:28:40.649147Z",
     "iopub.status.busy": "2021-02-12T22:28:40.645463Z",
     "iopub.status.idle": "2021-02-12T22:28:40.781202Z",
     "shell.execute_reply": "2021-02-12T22:28:40.780663Z"
    },
    "id": "NxtL1mbOYCVO"
   },
   "outputs": [
    {
     "data": {
      "text/plain": [
       "(0.39499959945678675, 250.0)"
      ]
     },
     "execution_count": 1,
     "metadata": {},
     "output_type": "execute_result"
    },
    {
     "data": {
      "image/png": "[encoded data removed]",
      "text/plain": [
       "<Figure size 432x288 with 1 Axes>"
      ]
     },
     "metadata": {
      "needs_background": "light"
     },
     "output_type": "display_data"
    }
   ],
   "source": [
    "#@test {\"skip\": true}\n",
    "\n",
    "iterations = range(0, num_iterations + 1, eval_interval)\n",
    "plt.plot(iterations, returns)\n",
    "plt.ylabel('Average Return')\n",
    "plt.xlabel('Iterations')\n",
    "plt.ylim(top=250)"
   ]
  },
  {
   "cell_type": "markdown",
   "metadata": {
    "id": "M7-XpPP99Cy7"
   },
   "source": [
    "### 動画"
   ]
  },
  {
   "cell_type": "markdown",
   "metadata": {
    "id": "9pGfGxSH32gn"
   },
   "source": [
    "グラフは便利ですが、エージェントが環境内で実際にタスクを実行している様子を動画で視覚化するとさらに分かりやすくなります。\n",
    "\n",
    "まず、ノートブックに動画を埋め込む関数を作成します。"
   ]
  },
  {
   "cell_type": "code",
   "execution_count": 34,
   "metadata": {
    "execution": {
     "iopub.execute_input": "2021-02-12T22:28:40.786907Z",
     "iopub.status.busy": "2021-02-12T22:28:40.786251Z",
     "iopub.status.idle": "2021-02-12T22:28:40.788060Z",
     "shell.execute_reply": "2021-02-12T22:28:40.788545Z"
    },
    "id": "ULaGr8pvOKbl"
   },
   "outputs": [],
   "source": [
    "def embed_mp4(filename):\n",
    "  \"\"\"Embeds an mp4 file in the notebook.\"\"\"\n",
    "  video = open(filename,'rb').read()\n",
    "  b64 = base64.b64encode(video)\n",
    "  tag = '''\n",
    "  <video width=\"640\" height=\"480\" controls>\n",
    "    <source src=\"data:video/mp4;base64,{0}\" type=\"video/mp4\">\n",
    "  Your browser does not support the video tag.\n",
    "  </video>'''.format(b64.decode())\n",
    "\n",
    "  return IPython.display.HTML(tag)"
   ]
  },
  {
   "cell_type": "markdown",
   "metadata": {
    "id": "9c_PH-pX4Pr5"
   },
   "source": [
    "CartPole ゲームのいくつかのエピソードをエージェントで繰り返します。基礎となる Python 環境（TensorFlow 環境ラッパーの「内部」のもの）は、環境の状態のイメージを出力する`render()`メソッドを提供します。これらは動画に収集できます。"
   ]
  },
  {
   "cell_type": "code",
   "execution_count": 35,
   "metadata": {
    "execution": {
     "iopub.execute_input": "2021-02-12T22:28:40.795218Z",
     "iopub.status.busy": "2021-02-12T22:28:40.794433Z",
     "iopub.status.idle": "2021-02-12T22:28:53.292173Z",
     "shell.execute_reply": "2021-02-12T22:28:53.292634Z"
    },
    "id": "owOVWB158NlF"
   },
   "outputs": [
    {
     "name": "stderr",
     "output_type": "stream",
     "text": [
      "WARNING:root:IMAGEIO FFMPEG_WRITER WARNING: input image is not divisible by macro_block_size=16, resizing from (400, 600) to (400, 608) to ensure video compatibility with most codecs and players. To prevent resizing, make your input image divisible by the macro_block_size or set the macro_block_size to None (risking incompatibility). You may also see a FFMPEG warning concerning speedloss due to data not being aligned.\n"
     ]
    },
    {
     "data": {
      "text/html": [
       "\n",
       "  <video width=\"640\" height=\"480\" controls>\n",
       "    <source src=\"data:video/mp4;base64,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\" type=\"video/mp4\">\n",
       "  Your browser does not support the video tag.\n",
       "  </video>"
      ],
      "text/plain": [
       "<IPython.core.display.HTML object>"
      ]
     },
     "execution_count": 1,
     "metadata": {},
     "output_type": "execute_result"
    }
   ],
   "source": [
    "def create_policy_eval_video(policy, filename, num_episodes=5, fps=30):\n",
    "  filename = filename + \".mp4\"\n",
    "  with imageio.get_writer(filename, fps=fps) as video:\n",
    "    for _ in range(num_episodes):\n",
    "      time_step = eval_env.reset()\n",
    "      video.append_data(eval_py_env.render())\n",
    "      while not time_step.is_last():\n",
    "        action_step = policy.action(time_step)\n",
    "        time_step = eval_env.step(action_step.action)\n",
    "        video.append_data(eval_py_env.render())\n",
    "  return embed_mp4(filename)\n",
    "\n",
    "\n",
    "\n",
    "\n",
    "create_policy_eval_video(agent.policy, \"trained-agent\")"
   ]
  },
  {
   "cell_type": "markdown",
   "metadata": {
    "id": "povaAOcZygLw"
   },
   "source": [
    "トレーニングされたエージェント（上記）をランダムに移動するエージェントと比較してみてください。（ランダムに移動するエージェントは、トレーニングされたエージェントと比べて上手くできません。）"
   ]
  },
  {
   "cell_type": "code",
   "execution_count": 36,
   "metadata": {
    "execution": {
     "iopub.execute_input": "2021-02-12T22:28:53.299295Z",
     "iopub.status.busy": "2021-02-12T22:28:53.298204Z",
     "iopub.status.idle": "2021-02-12T22:28:54.753046Z",
     "shell.execute_reply": "2021-02-12T22:28:54.752429Z"
    },
    "id": "pJZIdC37yNH4"
   },
   "outputs": [
    {
     "name": "stderr",
     "output_type": "stream",
     "text": [
      "WARNING:root:IMAGEIO FFMPEG_WRITER WARNING: input image is not divisible by macro_block_size=16, resizing from (400, 600) to (400, 608) to ensure video compatibility with most codecs and players. To prevent resizing, make your input image divisible by the macro_block_size or set the macro_block_size to None (risking incompatibility). You may also see a FFMPEG warning concerning speedloss due to data not being aligned.\n"
     ]
    },
    {
     "data": {
      "text/html": [
       "\n",
       "  <video width=\"640\" height=\"480\" controls>\n",
       "    <source src=\"data:video/mp4;base64,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\" type=\"video/mp4\">\n",
       "  Your browser does not support the video tag.\n",
       "  </video>"
      ],
      "text/plain": [
       "<IPython.core.display.HTML object>"
      ]
     },
     "execution_count": 1,
     "metadata": {},
     "output_type": "execute_result"
    }
   ],
   "source": [
    "create_policy_eval_video(random_policy, \"random-agent\")"
   ]
  }
 ],
 "metadata": {
  "colab": {
   "collapsed_sections": [],
   "name": "1_dqn_tutorial.ipynb",
   "toc_visible": true
  },
  "kernelspec": {
   "display_name": "Python 3",
   "name": "python3"
  },
  "language_info": {
   "codemirror_mode": {
    "name": "ipython",
    "version": 3
   },
   "file_extension": ".py",
   "mimetype": "text/x-python",
   "name": "python",
   "nbconvert_exporter": "python",
   "pygments_lexer": "ipython3",
   "version": "3.7.3"
  }
 },
 "nbformat": 4,
 "nbformat_minor": 0
}
